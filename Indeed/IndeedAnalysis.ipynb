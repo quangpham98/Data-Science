{
 "cells": [
  {
   "cell_type": "code",
   "execution_count": 1,
   "metadata": {
    "collapsed": true
   },
   "outputs": [],
   "source": [
    "import urllib2\n",
    "import bs4 #this is beautiful soup\n",
    "\n",
    "import time\n",
    "from pandas import Series\n",
    "from bs4 import SoupStrainer\n",
    "import pandas as pd\n",
    "from pandas import DataFrame\n",
    "import numpy as np\n",
    "import re\n",
    "\n",
    "import matplotlib\n",
    "import matplotlib.pyplot as plt\n",
    "%matplotlib inline"
   ]
  },
  {
   "cell_type": "code",
   "execution_count": 2,
   "metadata": {},
   "outputs": [
    {
     "name": "stderr",
     "output_type": "stream",
     "text": [
      "/anaconda2/lib/python2.7/site-packages/bs4/__init__.py:181: UserWarning: No parser was explicitly specified, so I'm using the best available HTML parser for this system (\"lxml\"). This usually isn't a problem, but if you run this code on another system, or in a different virtual environment, it may use a different parser and behave differently.\n",
      "\n",
      "The code that caused this warning is on line 174 of the file /anaconda2/lib/python2.7/runpy.py. To get rid of this warning, change code that looks like this:\n",
      "\n",
      " BeautifulSoup(YOUR_MARKUP})\n",
      "\n",
      "to this:\n",
      "\n",
      " BeautifulSoup(YOUR_MARKUP, \"lxml\")\n",
      "\n",
      "  markup_type=markup_type))\n"
     ]
    }
   ],
   "source": [
    "# Fixed url for job postings containing data scientist\n",
    "url = 'http://www.indeed.com/jobs?q=data+scientist&l='\n",
    "# read the website\n",
    "source = urllib2.urlopen(url).read()\n",
    "# parse html code\n",
    "bs_tree = bs4.BeautifulSoup(source)\n"
   ]
  },
  {
   "cell_type": "code",
   "execution_count": null,
   "metadata": {
    "collapsed": true
   },
   "outputs": [],
   "source": [
    "# see how many job postings we found\n",
    "job_count_string = bs_tree.find(id = 'searchCount').contents[0]\n",
    "\n",
    "job_count_string = job_count_string.split()[-2]\n",
    "\n",
    "print(\"Search yielded %s hits.\" % (job_count_string))\n",
    "# not that job_count so far is still a string, \n",
    "# not an integer, and the , separator prevents \n",
    "# us from just casting it to int\n",
    "\n",
    "job_count_digits = [int(d) for d in job_count_string if d.isdigit()]\n",
    "\n",
    "job_count = np.sum([digit*(10**exponent) for digit, exponent in \n",
    "                    zip(job_count_digits[::-1], range(len(job_count_digits)))])\n",
    "\n",
    "num_pages = int(np.ceil(job_count/10.0))"
   ]
  },
  {
   "cell_type": "code",
   "execution_count": 3,
   "metadata": {},
   "outputs": [
    {
     "name": "stdout",
     "output_type": "stream",
     "text": [
      "1000\n"
     ]
    }
   ],
   "source": [
    "company=[]\n",
    "# Make a list of first 1000 companies in first 1000 ads\n",
    "# If want to go through all pages,use range(num_pages) instead of 130\n",
    "for i in range(130):\n",
    "    url = 'http://www.indeed.com/jobs?q=data+scientist&start=' + str(i*10)\n",
    "    html_page1 = urllib2.urlopen(url).read() \n",
    "    bs_tree = bs4.BeautifulSoup(html_page1)\n",
    "    row = bs_tree.find_all('span',class_='company')\n",
    "    row=str(row)\n",
    "    row=row.split('</a>')\n",
    "\n",
    "    for i in row[:-1]: \n",
    "        i=i.split('   ')\n",
    "        if len(company)<1000: \n",
    "            company.append(i[-1])\n",
    "            \n",
    "print len(company)            \n",
    "      \n",
    "\n"
   ]
  },
  {
   "cell_type": "code",
   "execution_count": 4,
   "metadata": {},
   "outputs": [
    {
     "name": "stdout",
     "output_type": "stream",
     "text": [
      "1000\n"
     ]
    }
   ],
   "source": [
    "location=[]\n",
    "\n",
    "\n",
    "for i in range(130):\n",
    "    url = 'http://www.indeed.com/jobs?q=data+scientist&start=' + str(i*10)\n",
    "    html_page1 = urllib2.urlopen(url).read() \n",
    "    bs_tree = bs4.BeautifulSoup(html_page1)\n",
    "    r1= bs_tree.find_all('span',class_='location')\n",
    "    r1=str(r1)\n",
    "    r1=r1.split(\"</span>\")\n",
    "    for i in r1[:-1]: \n",
    "        i=i.split('>')\n",
    "        if len(location)<1000: \n",
    "            location.append(i[-1])\n",
    "            \n",
    "print len(location)\n",
    "   "
   ]
  },
  {
   "cell_type": "code",
   "execution_count": 5,
   "metadata": {},
   "outputs": [
    {
     "name": "stdout",
     "output_type": "stream",
     "text": [
      "run\n",
      "We found a lot of jobs:  1000\n"
     ]
    }
   ],
   "source": [
    "base_url = 'http://www.indeed.com'\n",
    "job_links = []\n",
    "print \"run\"\n",
    "for i in range(130): #do range(num_pages) if you want them all\n",
    "    url = 'http://www.indeed.com/jobs?q=data+scientist&start=' + str(i*10)\n",
    "    html_page = urllib2.urlopen(url).read() \n",
    "    bs_tree = bs4.BeautifulSoup(html_page)\n",
    "    job_link_area = bs_tree.find(id = 'resultsCol')\n",
    "   \n",
    "    job_postings = job_link_area.findAll(\"div\")\n",
    "    job_postings = [jp for jp in job_postings if not jp.get('class') is None \n",
    "                    and ''.join(jp.get('class')) ==\"rowresult\"]\n",
    "    job_ids = [jp.get('data-jk') for jp in job_postings]\n",
    "\n",
    "    # go after each link\n",
    "    \n",
    "    for id in job_ids:\n",
    "        if len(job_links)<1000:\n",
    "            job_links.append(base_url + '/rc/clk?jk=' + id)\n",
    "        \n",
    "    time.sleep(1)\n",
    "\n",
    "print \"We found a lot of jobs: \", len(job_links)"
   ]
  },
  {
   "cell_type": "code",
   "execution_count": 39,
   "metadata": {
    "collapsed": true
   },
   "outputs": [],
   "source": [
    "skill_set = {'hadoop':[],'java':[],'tableau':[],'big data':[],'mapreduce':[], 'spark':[], 'visualization':[],'sql':[],'machine learning':[],'deep learning':[],'python':[],'graphical model':[],'communication':[],'data analytic':[],'problem solving':[],'sas':[],' data mining':[],'math':[],'tensorflow':[],'matlab':[]}\n",
    "counter = 0\n",
    "for link in job_links:\n",
    "    counter +=1  \n",
    "    \n",
    "    try:\n",
    "        html_page = urllib2.urlopen(link).read()\n",
    "    except urllib2.HTTPError:\n",
    "        #print \"HTTPError:\"\n",
    "        continue\n",
    "    except urllib2.URLError:\n",
    "        #print \"URLError:\"\n",
    "        continue\n",
    "    except socket.error as error:\n",
    "        #print \"Connection closed\"\n",
    "        continue\n",
    "  \n",
    "    html_text = re.sub(\"[^a-z.+3]\",\" \", html_page.lower()) # replace all but the listed characters\n",
    "\n",
    "    for key in skill_set.keys():\n",
    "        if key in html_text:  \n",
    "            skill_set[key].append(\"True\")\n",
    "            \n",
    "        else:    \n",
    "             skill_set[key].append(\"False\")\n",
    "    #if counter % 5 == 0:\n",
    "       # print len(job_links) - counter\n",
    "        #print skill_set\n"
   ]
  },
  {
   "cell_type": "code",
   "execution_count": 100,
   "metadata": {
    "collapsed": true
   },
   "outputs": [],
   "source": [
    " for i in range(130): #do range(num_pages) if you want them all\n",
    "    url = 'http://www.indeed.com/jobs?q=data+scientist&start=' + str(i*10)\n",
    "    html_page = urllib2.urlopen(url).read() \n",
    "    bs_tree = bs4.BeautifulSoup(html_page)\n",
    "    row2 = bs_tree.find_all('h2',class_='jobtitle')\n",
    " \n",
    "    row2=str(row)\n",
    "    row2=row2.split(\"</h2>\")\n",
    "    row2[0]=row2[0].split(\"title\")\n",
    "    k= row2[0]\n",
    "    k=k[-1] \n",
    "  \n",
    "    k=k.split(\"\\\"\")\n",
    "    a=k[1]\n",
    "    if len(jobtitle)<1000:\n",
    "        jobtitle.append(a)\n",
    "   "
   ]
  },
  {
   "cell_type": "code",
   "execution_count": 58,
   "metadata": {},
   "outputs": [
    {
     "name": "stdout",
     "output_type": "stream",
     "text": [
      "Index([u' data mining', u'big data', u'communication', u'data analytic',\n",
      "       u'deep learning', u'graphical model', u'hadoop', u'java',\n",
      "       u'machine learning', u'mapreduce', u'math', u'matlab',\n",
      "       u'problem solving', u'python', u'sas', u'spark', u'sql', u'tableau',\n",
      "       u'tensorflow', u'visualization'],\n",
      "      dtype='object')\n"
     ]
    }
   ],
   "source": [
    "skill = pd.DataFrame(skill_set)\n",
    "setskill=skill.columns\n",
    "print setskill\n"
   ]
  },
  {
   "cell_type": "code",
   "execution_count": 16,
   "metadata": {},
   "outputs": [
    {
     "name": "stdout",
     "output_type": "stream",
     "text": [
      "0                           Bartech Group\n",
      "1                               Novozymes\n",
      "2                              LexisNexis\n",
      "3     Children's Hospital of Philadelphia\n",
      "4                                   Intel\n",
      "dtype: object\n"
     ]
    }
   ],
   "source": [
    "dfcompany=pd.Series(company)\n",
    "print dfcompany.head()"
   ]
  },
  {
   "cell_type": "code",
   "execution_count": 166,
   "metadata": {
    "collapsed": true
   },
   "outputs": [],
   "source": [
    "dfloc=pd.Series(location)\n",
    "dftitle=pd.Series(jobtitle)\n"
   ]
  },
  {
   "cell_type": "code",
   "execution_count": 109,
   "metadata": {
    "collapsed": true
   },
   "outputs": [],
   "source": [
    "df3=pd.DataFrame()"
   ]
  },
  {
   "cell_type": "code",
   "execution_count": 110,
   "metadata": {
    "collapsed": true
   },
   "outputs": [],
   "source": [
    "df3['company']=dfcompany\n",
    "df3['location']=dfloc\n",
    "df3['title']=dftitle"
   ]
  },
  {
   "cell_type": "code",
   "execution_count": 121,
   "metadata": {},
   "outputs": [
    {
     "data": {
      "text/html": [
       "<div>\n",
       "<style>\n",
       "    .dataframe thead tr:only-child th {\n",
       "        text-align: right;\n",
       "    }\n",
       "\n",
       "    .dataframe thead th {\n",
       "        text-align: left;\n",
       "    }\n",
       "\n",
       "    .dataframe tbody tr th {\n",
       "        vertical-align: top;\n",
       "    }\n",
       "</style>\n",
       "<table border=\"1\" class=\"dataframe\">\n",
       "  <thead>\n",
       "    <tr style=\"text-align: right;\">\n",
       "      <th></th>\n",
       "      <th>company</th>\n",
       "      <th>location</th>\n",
       "      <th>title</th>\n",
       "      <th>data mining</th>\n",
       "      <th>big data</th>\n",
       "      <th>communication</th>\n",
       "      <th>data analytic</th>\n",
       "      <th>deep learning</th>\n",
       "      <th>graphical model</th>\n",
       "      <th>hadoop</th>\n",
       "      <th>...</th>\n",
       "      <th>math</th>\n",
       "      <th>matlab</th>\n",
       "      <th>problem solving</th>\n",
       "      <th>python</th>\n",
       "      <th>sas</th>\n",
       "      <th>spark</th>\n",
       "      <th>sql</th>\n",
       "      <th>tableau</th>\n",
       "      <th>tensorflow</th>\n",
       "      <th>visualization</th>\n",
       "    </tr>\n",
       "  </thead>\n",
       "  <tbody>\n",
       "    <tr>\n",
       "      <th>0</th>\n",
       "      <td>Bartech Group</td>\n",
       "      <td>Dearborn, MI</td>\n",
       "      <td>Data Scientist I</td>\n",
       "      <td>False</td>\n",
       "      <td>True</td>\n",
       "      <td>True</td>\n",
       "      <td>False</td>\n",
       "      <td>False</td>\n",
       "      <td>False</td>\n",
       "      <td>True</td>\n",
       "      <td>...</td>\n",
       "      <td>True</td>\n",
       "      <td>False</td>\n",
       "      <td>True</td>\n",
       "      <td>False</td>\n",
       "      <td>True</td>\n",
       "      <td>True</td>\n",
       "      <td>True</td>\n",
       "      <td>False</td>\n",
       "      <td>False</td>\n",
       "      <td>False</td>\n",
       "    </tr>\n",
       "    <tr>\n",
       "      <th>1</th>\n",
       "      <td>Novozymes</td>\n",
       "      <td>St. Louis, MO</td>\n",
       "      <td>Data Scientist</td>\n",
       "      <td>False</td>\n",
       "      <td>False</td>\n",
       "      <td>False</td>\n",
       "      <td>False</td>\n",
       "      <td>False</td>\n",
       "      <td>False</td>\n",
       "      <td>False</td>\n",
       "      <td>...</td>\n",
       "      <td>True</td>\n",
       "      <td>False</td>\n",
       "      <td>False</td>\n",
       "      <td>False</td>\n",
       "      <td>False</td>\n",
       "      <td>False</td>\n",
       "      <td>False</td>\n",
       "      <td>False</td>\n",
       "      <td>False</td>\n",
       "      <td>False</td>\n",
       "    </tr>\n",
       "    <tr>\n",
       "      <th>2</th>\n",
       "      <td>LexisNexis</td>\n",
       "      <td>Research Triangle Park, NC</td>\n",
       "      <td>Data Scientist</td>\n",
       "      <td>False</td>\n",
       "      <td>False</td>\n",
       "      <td>True</td>\n",
       "      <td>False</td>\n",
       "      <td>False</td>\n",
       "      <td>False</td>\n",
       "      <td>False</td>\n",
       "      <td>...</td>\n",
       "      <td>False</td>\n",
       "      <td>False</td>\n",
       "      <td>False</td>\n",
       "      <td>False</td>\n",
       "      <td>False</td>\n",
       "      <td>False</td>\n",
       "      <td>False</td>\n",
       "      <td>False</td>\n",
       "      <td>False</td>\n",
       "      <td>False</td>\n",
       "    </tr>\n",
       "    <tr>\n",
       "      <th>3</th>\n",
       "      <td>Children's Hospital of Philadelphia</td>\n",
       "      <td>Raleigh, NC</td>\n",
       "      <td>Data Scientist</td>\n",
       "      <td>False</td>\n",
       "      <td>True</td>\n",
       "      <td>True</td>\n",
       "      <td>False</td>\n",
       "      <td>False</td>\n",
       "      <td>False</td>\n",
       "      <td>False</td>\n",
       "      <td>...</td>\n",
       "      <td>True</td>\n",
       "      <td>False</td>\n",
       "      <td>False</td>\n",
       "      <td>True</td>\n",
       "      <td>False</td>\n",
       "      <td>False</td>\n",
       "      <td>False</td>\n",
       "      <td>False</td>\n",
       "      <td>False</td>\n",
       "      <td>True</td>\n",
       "    </tr>\n",
       "    <tr>\n",
       "      <th>4</th>\n",
       "      <td>Intel</td>\n",
       "      <td>(Point Breeze area)</td>\n",
       "      <td>Data Scientist</td>\n",
       "      <td>False</td>\n",
       "      <td>False</td>\n",
       "      <td>False</td>\n",
       "      <td>False</td>\n",
       "      <td>False</td>\n",
       "      <td>False</td>\n",
       "      <td>False</td>\n",
       "      <td>...</td>\n",
       "      <td>True</td>\n",
       "      <td>False</td>\n",
       "      <td>False</td>\n",
       "      <td>True</td>\n",
       "      <td>True</td>\n",
       "      <td>False</td>\n",
       "      <td>True</td>\n",
       "      <td>False</td>\n",
       "      <td>False</td>\n",
       "      <td>False</td>\n",
       "    </tr>\n",
       "  </tbody>\n",
       "</table>\n",
       "<p>5 rows × 23 columns</p>\n",
       "</div>"
      ],
      "text/plain": [
       "                                company                    location  \\\n",
       "0                         Bartech Group                Dearborn, MI   \n",
       "1                             Novozymes               St. Louis, MO   \n",
       "2                            LexisNexis  Research Triangle Park, NC   \n",
       "3   Children's Hospital of Philadelphia                 Raleigh, NC   \n",
       "4                                 Intel         (Point Breeze area)   \n",
       "\n",
       "              title  data mining big data communication data analytic  \\\n",
       "0  Data Scientist I        False     True          True         False   \n",
       "1    Data Scientist        False    False         False         False   \n",
       "2    Data Scientist        False    False          True         False   \n",
       "3    Data Scientist        False     True          True         False   \n",
       "4    Data Scientist        False    False         False         False   \n",
       "\n",
       "  deep learning graphical model hadoop      ...        math matlab  \\\n",
       "0         False           False   True      ...        True  False   \n",
       "1         False           False  False      ...        True  False   \n",
       "2         False           False  False      ...       False  False   \n",
       "3         False           False  False      ...        True  False   \n",
       "4         False           False  False      ...        True  False   \n",
       "\n",
       "  problem solving python    sas  spark    sql tableau tensorflow visualization  \n",
       "0            True  False   True   True   True   False      False         False  \n",
       "1           False  False  False  False  False   False      False         False  \n",
       "2           False  False  False  False  False   False      False         False  \n",
       "3           False   True  False  False  False   False      False          True  \n",
       "4           False   True   True  False   True   False      False         False  \n",
       "\n",
       "[5 rows x 23 columns]"
      ]
     },
     "execution_count": 121,
     "metadata": {},
     "output_type": "execute_result"
    }
   ],
   "source": [
    "for i in setskill:\n",
    "    df3[i]=skill[i]\n",
    "df3.head()"
   ]
  },
  {
   "cell_type": "code",
   "execution_count": 122,
   "metadata": {},
   "outputs": [
    {
     "data": {
      "text/plain": [
       "Text(0.5,1,u'Top 20 famous companies')"
      ]
     },
     "execution_count": 122,
     "metadata": {},
     "output_type": "execute_result"
    },
    {
     "data": {
      "image/png": "[encoded data removed]",
      "text/plain": [
       "<matplotlib.figure.Figure at 0x105ee50d0>"
      ]
     },
     "metadata": {},
     "output_type": "display_data"
    }
   ],
   "source": [
    "df2.head(10)\n",
    "comp=df3['company'].value_counts()\n",
    "comp[0:20].plot(kind='bar')\n",
    "plt.title\n",
    "plt.xlabel('Company')\n",
    "plt.ylabel('Number of jobs')\n",
    "plt.title('Top 20 famous companies')"
   ]
  },
  {
   "cell_type": "code",
   "execution_count": 150,
   "metadata": {},
   "outputs": [
    {
     "data": {
      "text/plain": [
       "pandas.core.frame.DataFrame"
      ]
     },
     "execution_count": 150,
     "metadata": {},
     "output_type": "execute_result"
    }
   ],
   "source": [
    "states=df3['location'].str.split(',',-1,expand=True)\n",
    "type(states)"
   ]
  },
  {
   "cell_type": "code",
   "execution_count": 164,
   "metadata": {},
   "outputs": [
    {
     "data": {
      "text/plain": [
       "Text(0.5,1,u'Number of Data Science jobs in states')"
      ]
     },
     "execution_count": 164,
     "metadata": {},
     "output_type": "execute_result"
    },
    {
     "data": {
      "image/png": "[encoded data removed]",
      "text/plain": [
       "<matplotlib.figure.Figure at 0x117b26c10>"
      ]
     },
     "metadata": {},
     "output_type": "display_data"
    }
   ],
   "source": [
    "top=states[1].value_counts()\n",
    "top20=top[0:20]\n",
    "top20.plot(kind='bar')\n",
    "plt.xlabel(\"State\")\n",
    "plt.ylabel(\"Jobs\")\n",
    "plt.title(\"Number of Data Science jobs in states\")"
   ]
  },
  {
   "cell_type": "code",
   "execution_count": null,
   "metadata": {
    "collapsed": true
   },
   "outputs": [],
   "source": []
  }
 ],
 "metadata": {
  "kernelspec": {
   "display_name": "Python 2",
   "language": "python",
   "name": "python2"
  },
  "language_info": {
   "codemirror_mode": {
    "name": "ipython",
    "version": 2
   },
   "file_extension": ".py",
   "mimetype": "text/x-python",
   "name": "python",
   "nbconvert_exporter": "python",
   "pygments_lexer": "ipython2",
   "version": "2.7.14"
  }
 },
 "nbformat": 4,
 "nbformat_minor": 2
}
